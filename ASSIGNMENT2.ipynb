{
 "cells": [
  {
   "cell_type": "markdown",
   "metadata": {},
   "source": [
    "# ASSIGNMENT2"
   ]
  },
  {
   "cell_type": "markdown",
   "metadata": {},
   "source": [
    "QN 1.Create the below pattern using nested for loop in Python.\n",
    "\n",
    "*\n",
    "* *\n",
    "* * *\n",
    "* * * *\n",
    "* * * * *\n",
    "* * * *\n",
    "* * *\n",
    "* *\n",
    "*"
   ]
  },
  {
   "cell_type": "code",
   "execution_count": 1,
   "metadata": {},
   "outputs": [
    {
     "name": "stdout",
     "output_type": "stream",
     "text": [
      "Enter the no of rows: 9\n",
      "* \n",
      "* * \n",
      "* * * \n",
      "* * * * \n",
      "* * * * * \n",
      "* * * * \n",
      "* * * \n",
      "* * \n",
      "* \n"
     ]
    }
   ],
   "source": [
    "#This Code is basically for all odd no of rows.\n",
    "rows=int(input(\"Enter the no of rows: \"))\n",
    "n=rows/2\n",
    "for i in range(0,rows):\n",
    "    if i<n:\n",
    "        for j in range(0,i+1):\n",
    "            print(\"*\",end=' ')\n",
    "        print(\"\\r\")\n",
    "    if i>n:\n",
    "        for j in range(0,rows-i):\n",
    "            print(\"*\",end=' ')\n",
    "        print(\"\\r\") \n",
    "        "
   ]
  },
  {
   "cell_type": "code",
   "execution_count": 2,
   "metadata": {},
   "outputs": [
    {
     "name": "stdout",
     "output_type": "stream",
     "text": [
      "Enter the no of rows: 10\n",
      "* \n",
      "* * \n",
      "* * * \n",
      "* * * * \n",
      "* * * * * \n",
      "* * * * * \n",
      "* * * * \n",
      "* * * \n",
      "* * \n",
      "* \n"
     ]
    }
   ],
   "source": [
    "#Below Code is Basically for odd and even no of rows.\n",
    "#This code is basially for practice purpose.\n",
    "rows=int(input(\"Enter the no of rows: \"))\n",
    "n=rows/2\n",
    "for i in range(0,rows):\n",
    "    #if rows%2!=0:\n",
    "        if i<n:\n",
    "            for j in range(0,i+1):\n",
    "                print(\"*\",end=' ')\n",
    "            print(\"\\r\")\n",
    "        if rows%2!=0 and i>n:    \n",
    "            for j in range(0,rows-i):\n",
    "                print(\"*\",end=' ')\n",
    "            print(\"\\r\")\n",
    "        if rows%2==0 and i>=n:\n",
    "            for j in range(0,rows-i):\n",
    "                print(\"*\",end=' ')\n",
    "            print(\"\\r\")    \n",
    "   # else:\n",
    "       # if i<n:\n",
    "            #for j in range(0,i+1):\n",
    "               # print(\"*\",end=' ')\n",
    "            #print(\"\\r\")\n",
    "        #if i>=n:\n",
    "           # for j in range(0,rows-i):\n",
    "                #print(\"*\",end=' ')\n",
    "            #print(\"\\r\")"
   ]
  },
  {
   "cell_type": "markdown",
   "metadata": {},
   "source": [
    "QN 2. 2. Write a Python program to reverse a word after accepting the input from the user.\n",
    "\n",
    "SAMPLE OUTPUT:\n",
    "Input word: ineuron\n",
    "Output: norueni"
   ]
  },
  {
   "cell_type": "code",
   "execution_count": 3,
   "metadata": {},
   "outputs": [
    {
     "name": "stdout",
     "output_type": "stream",
     "text": [
      "Input Word: Ineuron\n",
      "Output: noruenI\n"
     ]
    }
   ],
   "source": [
    "Word=input(\"Input Word: \")\n",
    "print(\"Output: \"+Word[::-1])"
   ]
  },
  {
   "cell_type": "code",
   "execution_count": null,
   "metadata": {
    "collapsed": true
   },
   "outputs": [],
   "source": []
  }
 ],
 "metadata": {
  "kernelspec": {
   "display_name": "Python 3",
   "language": "python",
   "name": "python3"
  },
  "language_info": {
   "codemirror_mode": {
    "name": "ipython",
    "version": 3
   },
   "file_extension": ".py",
   "mimetype": "text/x-python",
   "name": "python",
   "nbconvert_exporter": "python",
   "pygments_lexer": "ipython3",
   "version": "3.6.3"
  }
 },
 "nbformat": 4,
 "nbformat_minor": 2
}
